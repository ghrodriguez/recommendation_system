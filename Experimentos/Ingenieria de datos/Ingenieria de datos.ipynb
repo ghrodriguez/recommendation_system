{
 "cells": [
  {
   "cell_type": "code",
   "execution_count": 2,
   "metadata": {},
   "outputs": [],
   "source": [
    "import pandas as pd\n",
    "import json\n",
    "import matplotlib.pyplot as plt\n",
    "from mlxtend.frequent_patterns import association_rules, apriori\n",
    "import numpy as np\n",
    "from sklearn.metrics.pairwise import cosine_similarity, linear_kernel\n",
    "from sklearn.feature_extraction.text import CountVectorizer\n",
    "from sklearn.model_selection import train_test_split\n",
    "from sklearn.metrics import mean_squared_error\n",
    "import seaborn as sns"
   ]
  },
  {
   "cell_type": "code",
   "execution_count": 3,
   "metadata": {},
   "outputs": [],
   "source": [
    "df = pd.read_json(\"/Users/federicoyoungmendiola/Downloads/renttherunway_final_data.json\",lines=True)\n"
   ]
  },
  {
   "cell_type": "code",
   "execution_count": 4,
   "metadata": {},
   "outputs": [
    {
     "data": {
      "text/html": [
       "<div>\n",
       "<style scoped>\n",
       "    .dataframe tbody tr th:only-of-type {\n",
       "        vertical-align: middle;\n",
       "    }\n",
       "\n",
       "    .dataframe tbody tr th {\n",
       "        vertical-align: top;\n",
       "    }\n",
       "\n",
       "    .dataframe thead th {\n",
       "        text-align: right;\n",
       "    }\n",
       "</style>\n",
       "<table border=\"1\" class=\"dataframe\">\n",
       "  <thead>\n",
       "    <tr style=\"text-align: right;\">\n",
       "      <th></th>\n",
       "      <th>fit</th>\n",
       "      <th>user_id</th>\n",
       "      <th>bust size</th>\n",
       "      <th>item_id</th>\n",
       "      <th>weight</th>\n",
       "      <th>rating</th>\n",
       "      <th>rented for</th>\n",
       "      <th>review_text</th>\n",
       "      <th>body type</th>\n",
       "      <th>review_summary</th>\n",
       "      <th>category</th>\n",
       "      <th>height</th>\n",
       "      <th>size</th>\n",
       "      <th>age</th>\n",
       "      <th>review_date</th>\n",
       "    </tr>\n",
       "  </thead>\n",
       "  <tbody>\n",
       "    <tr>\n",
       "      <th>0</th>\n",
       "      <td>fit</td>\n",
       "      <td>420272</td>\n",
       "      <td>34d</td>\n",
       "      <td>2260466</td>\n",
       "      <td>137lbs</td>\n",
       "      <td>10.0</td>\n",
       "      <td>vacation</td>\n",
       "      <td>An adorable romper! Belt and zipper were a lit...</td>\n",
       "      <td>hourglass</td>\n",
       "      <td>So many compliments!</td>\n",
       "      <td>romper</td>\n",
       "      <td>5' 8\"</td>\n",
       "      <td>14</td>\n",
       "      <td>28.0</td>\n",
       "      <td>April 20, 2016</td>\n",
       "    </tr>\n",
       "    <tr>\n",
       "      <th>1</th>\n",
       "      <td>fit</td>\n",
       "      <td>273551</td>\n",
       "      <td>34b</td>\n",
       "      <td>153475</td>\n",
       "      <td>132lbs</td>\n",
       "      <td>10.0</td>\n",
       "      <td>other</td>\n",
       "      <td>I rented this dress for a photo shoot. The the...</td>\n",
       "      <td>straight &amp; narrow</td>\n",
       "      <td>I felt so glamourous!!!</td>\n",
       "      <td>gown</td>\n",
       "      <td>5' 6\"</td>\n",
       "      <td>12</td>\n",
       "      <td>36.0</td>\n",
       "      <td>June 18, 2013</td>\n",
       "    </tr>\n",
       "    <tr>\n",
       "      <th>2</th>\n",
       "      <td>fit</td>\n",
       "      <td>360448</td>\n",
       "      <td>NaN</td>\n",
       "      <td>1063761</td>\n",
       "      <td>NaN</td>\n",
       "      <td>10.0</td>\n",
       "      <td>party</td>\n",
       "      <td>This hugged in all the right places! It was a ...</td>\n",
       "      <td>NaN</td>\n",
       "      <td>It was a great time to celebrate the (almost) ...</td>\n",
       "      <td>sheath</td>\n",
       "      <td>5' 4\"</td>\n",
       "      <td>4</td>\n",
       "      <td>116.0</td>\n",
       "      <td>December 14, 2015</td>\n",
       "    </tr>\n",
       "    <tr>\n",
       "      <th>3</th>\n",
       "      <td>fit</td>\n",
       "      <td>909926</td>\n",
       "      <td>34c</td>\n",
       "      <td>126335</td>\n",
       "      <td>135lbs</td>\n",
       "      <td>8.0</td>\n",
       "      <td>formal affair</td>\n",
       "      <td>I rented this for my company's black tie award...</td>\n",
       "      <td>pear</td>\n",
       "      <td>Dress arrived on time and in perfect condition.</td>\n",
       "      <td>dress</td>\n",
       "      <td>5' 5\"</td>\n",
       "      <td>8</td>\n",
       "      <td>34.0</td>\n",
       "      <td>February 12, 2014</td>\n",
       "    </tr>\n",
       "    <tr>\n",
       "      <th>4</th>\n",
       "      <td>fit</td>\n",
       "      <td>151944</td>\n",
       "      <td>34b</td>\n",
       "      <td>616682</td>\n",
       "      <td>145lbs</td>\n",
       "      <td>10.0</td>\n",
       "      <td>wedding</td>\n",
       "      <td>I have always been petite in my upper body and...</td>\n",
       "      <td>athletic</td>\n",
       "      <td>Was in love with this dress !!!</td>\n",
       "      <td>gown</td>\n",
       "      <td>5' 9\"</td>\n",
       "      <td>12</td>\n",
       "      <td>27.0</td>\n",
       "      <td>September 26, 2016</td>\n",
       "    </tr>\n",
       "  </tbody>\n",
       "</table>\n",
       "</div>"
      ],
      "text/plain": [
       "   fit  user_id bust size  item_id  weight  rating     rented for  \\\n",
       "0  fit   420272       34d  2260466  137lbs    10.0       vacation   \n",
       "1  fit   273551       34b   153475  132lbs    10.0          other   \n",
       "2  fit   360448       NaN  1063761     NaN    10.0          party   \n",
       "3  fit   909926       34c   126335  135lbs     8.0  formal affair   \n",
       "4  fit   151944       34b   616682  145lbs    10.0        wedding   \n",
       "\n",
       "                                         review_text          body type  \\\n",
       "0  An adorable romper! Belt and zipper were a lit...          hourglass   \n",
       "1  I rented this dress for a photo shoot. The the...  straight & narrow   \n",
       "2  This hugged in all the right places! It was a ...                NaN   \n",
       "3  I rented this for my company's black tie award...               pear   \n",
       "4  I have always been petite in my upper body and...           athletic   \n",
       "\n",
       "                                      review_summary category height  size  \\\n",
       "0                               So many compliments!   romper  5' 8\"    14   \n",
       "1                            I felt so glamourous!!!     gown  5' 6\"    12   \n",
       "2  It was a great time to celebrate the (almost) ...   sheath  5' 4\"     4   \n",
       "3   Dress arrived on time and in perfect condition.     dress  5' 5\"     8   \n",
       "4                    Was in love with this dress !!!     gown  5' 9\"    12   \n",
       "\n",
       "     age         review_date  \n",
       "0   28.0      April 20, 2016  \n",
       "1   36.0       June 18, 2013  \n",
       "2  116.0   December 14, 2015  \n",
       "3   34.0   February 12, 2014  \n",
       "4   27.0  September 26, 2016  "
      ]
     },
     "execution_count": 4,
     "metadata": {},
     "output_type": "execute_result"
    }
   ],
   "source": [
    "df.head(5)"
   ]
  },
  {
   "cell_type": "code",
   "execution_count": 4,
   "metadata": {},
   "outputs": [
    {
     "name": "stdout",
     "output_type": "stream",
     "text": [
      "<class 'pandas.core.frame.DataFrame'>\n",
      "RangeIndex: 192544 entries, 0 to 192543\n",
      "Data columns (total 15 columns):\n",
      "fit               192544 non-null object\n",
      "user_id           192544 non-null int64\n",
      "bust size         174133 non-null object\n",
      "item_id           192544 non-null int64\n",
      "weight            162562 non-null object\n",
      "rating            192462 non-null float64\n",
      "rented for        192534 non-null object\n",
      "review_text       192544 non-null object\n",
      "body type         177907 non-null object\n",
      "review_summary    192544 non-null object\n",
      "category          192544 non-null object\n",
      "height            191867 non-null object\n",
      "size              192544 non-null int64\n",
      "age               191584 non-null float64\n",
      "review_date       192544 non-null object\n",
      "dtypes: float64(2), int64(3), object(10)\n",
      "memory usage: 22.0+ MB\n"
     ]
    }
   ],
   "source": [
    "df.info()"
   ]
  },
  {
   "cell_type": "code",
   "execution_count": 5,
   "metadata": {},
   "outputs": [
    {
     "name": "stdout",
     "output_type": "stream",
     "text": [
      "Qty of Transactions:\t 192544\n",
      "Qty of Features:\t 15\n"
     ]
    }
   ],
   "source": [
    "print('Qty of Transactions:\\t', df.shape[0])\n",
    "print('Qty of Features:\\t', df.shape[1])\n"
   ]
  },
  {
   "cell_type": "code",
   "execution_count": 6,
   "metadata": {},
   "outputs": [
    {
     "data": {
      "text/plain": [
       "691468    436\n",
       "32925     292\n",
       "362951    228\n",
       "45337     140\n",
       "833675    128\n",
       "         ... \n",
       "561631      1\n",
       "883170      1\n",
       "881123      1\n",
       "606693      1\n",
       "112759      1\n",
       "Name: user_id, Length: 105571, dtype: int64"
      ]
     },
     "execution_count": 6,
     "metadata": {},
     "output_type": "execute_result"
    }
   ],
   "source": [
    "df.user_id.value_counts()"
   ]
  },
  {
   "cell_type": "markdown",
   "metadata": {},
   "source": [
    "## EDA"
   ]
  },
  {
   "cell_type": "code",
   "execution_count": 5,
   "metadata": {},
   "outputs": [
    {
     "data": {
      "image/png": "[encoded data removed]",
      "text/plain": [
       "<Figure size 1440x720 with 1 Axes>"
      ]
     },
     "metadata": {
      "needs_background": "light"
     },
     "output_type": "display_data"
    }
   ],
   "source": [
    "# Users who bought so many items\n",
    "items_bought = []\n",
    "total_users = []\n",
    "for i in range(min(df.user_id.value_counts()), max(df.user_id.value_counts())+1):\n",
    "    all_users = sum(df.user_id.value_counts() == i)\n",
    "    if all_users != 0:\n",
    "        total_users.append(all_users)\n",
    "        items_bought.append(i)\n",
    "plt.xlabel(\"Number of items bought\", fontsize = 18)\n",
    "plt.ylabel(\"Number of users\", fontsize = 18)\n",
    "plt.title(\"Distribution of items bought by users on Rent the Runway\")\n",
    "__ = sns.barplot(x=items_bought, y=total_users, color='y')\n",
    "fig = plt.gcf()\n",
    "fig.set_size_inches(20,10)\n"
   ]
  },
  {
   "cell_type": "markdown",
   "metadata": {},
   "source": [
    "66% of the users bought only one item "
   ]
  },
  {
   "cell_type": "markdown",
   "metadata": {},
   "source": [
    "### Ratings distribution"
   ]
  },
  {
   "cell_type": "code",
   "execution_count": 8,
   "metadata": {},
   "outputs": [
    {
     "data": {
      "text/plain": [
       "Text(0.5, 1.0, \"Distribution of 'Ratings'\")"
      ]
     },
     "execution_count": 8,
     "metadata": {},
     "output_type": "execute_result"
    },
    {
     "data": {
      "image/png": "[encoded data removed]",
      "text/plain": [
       "<Figure size 432x288 with 1 Axes>"
      ]
     },
     "metadata": {
      "needs_background": "light"
     },
     "output_type": "display_data"
    }
   ],
   "source": [
    "df.rating.plot.hist()\n",
    "plt.title(\"Distribution of 'Ratings'\")\n"
   ]
  },
  {
   "cell_type": "markdown",
   "metadata": {},
   "source": [
    "As we could see in the histogram plot, our dataset seems to be desbalanced. Almost all ratings are 8 or 10."
   ]
  },
  {
   "cell_type": "markdown",
   "metadata": {},
   "source": [
    "### 'Rented for'"
   ]
  },
  {
   "cell_type": "code",
   "execution_count": 9,
   "metadata": {},
   "outputs": [
    {
     "data": {
      "text/plain": [
       "Text(0.5, 1.0, \"Distribution of 'Rented for'\")"
      ]
     },
     "execution_count": 9,
     "metadata": {},
     "output_type": "execute_result"
    },
    {
     "data": {
      "image/png": "[encoded data removed]",
      "text/plain": [
       "<Figure size 432x288 with 1 Axes>"
      ]
     },
     "metadata": {
      "needs_background": "light"
     },
     "output_type": "display_data"
    }
   ],
   "source": [
    "df[\"rented for\"].value_counts().plot(kind='bar')\n",
    "plt.title(\"Distribution of 'Rented for'\")\n"
   ]
  },
  {
   "cell_type": "code",
   "execution_count": 10,
   "metadata": {},
   "outputs": [
    {
     "data": {
      "text/html": [
       "<div>\n",
       "<style scoped>\n",
       "    .dataframe tbody tr th:only-of-type {\n",
       "        vertical-align: middle;\n",
       "    }\n",
       "\n",
       "    .dataframe tbody tr th {\n",
       "        vertical-align: top;\n",
       "    }\n",
       "\n",
       "    .dataframe thead th {\n",
       "        text-align: right;\n",
       "    }\n",
       "</style>\n",
       "<table border=\"1\" class=\"dataframe\">\n",
       "  <thead>\n",
       "    <tr style=\"text-align: right;\">\n",
       "      <th></th>\n",
       "      <th>fit</th>\n",
       "      <th>user_id</th>\n",
       "      <th>bust size</th>\n",
       "      <th>item_id</th>\n",
       "      <th>weight</th>\n",
       "      <th>rating</th>\n",
       "      <th>rented for</th>\n",
       "      <th>review_text</th>\n",
       "      <th>body type</th>\n",
       "      <th>review_summary</th>\n",
       "      <th>category</th>\n",
       "      <th>height</th>\n",
       "      <th>size</th>\n",
       "      <th>age</th>\n",
       "      <th>review_date</th>\n",
       "    </tr>\n",
       "  </thead>\n",
       "  <tbody>\n",
       "    <tr>\n",
       "      <th>100942</th>\n",
       "      <td>fit</td>\n",
       "      <td>289468</td>\n",
       "      <td>34b</td>\n",
       "      <td>174258</td>\n",
       "      <td>114lbs</td>\n",
       "      <td>8.0</td>\n",
       "      <td>party: cocktail</td>\n",
       "      <td>I actually thought both the 4 and 6 fit me, bu...</td>\n",
       "      <td>petite</td>\n",
       "      <td>Gorgeous and comfortable!</td>\n",
       "      <td>dress</td>\n",
       "      <td>5' 2\"</td>\n",
       "      <td>12</td>\n",
       "      <td>35.0</td>\n",
       "      <td>November 9, 2011</td>\n",
       "    </tr>\n",
       "  </tbody>\n",
       "</table>\n",
       "</div>"
      ],
      "text/plain": [
       "        fit  user_id bust size  item_id  weight  rating       rented for  \\\n",
       "100942  fit   289468       34b   174258  114lbs     8.0  party: cocktail   \n",
       "\n",
       "                                              review_text body type  \\\n",
       "100942  I actually thought both the 4 and 6 fit me, bu...    petite   \n",
       "\n",
       "                   review_summary category height  size   age  \\\n",
       "100942  Gorgeous and comfortable!    dress  5' 2\"    12  35.0   \n",
       "\n",
       "             review_date  \n",
       "100942  November 9, 2011  "
      ]
     },
     "execution_count": 10,
     "metadata": {},
     "output_type": "execute_result"
    }
   ],
   "source": [
    "df[df['rented for']== 'party: cocktail']"
   ]
  },
  {
   "cell_type": "markdown",
   "metadata": {},
   "source": [
    "### 'Body type'"
   ]
  },
  {
   "cell_type": "code",
   "execution_count": 11,
   "metadata": {},
   "outputs": [
    {
     "data": {
      "text/plain": [
       "Text(0.5, 1.0, \"Distribution of 'Body type'\")"
      ]
     },
     "execution_count": 11,
     "metadata": {},
     "output_type": "execute_result"
    },
    {
     "data": {
      "image/png": "[encoded data removed]",
      "text/plain": [
       "<Figure size 432x288 with 1 Axes>"
      ]
     },
     "metadata": {
      "needs_background": "light"
     },
     "output_type": "display_data"
    }
   ],
   "source": [
    "#Cantidad de ocaciones de compra\n",
    "df[\"body type\"].value_counts().plot(kind='bar')\n",
    "plt.title(\"Distribution of 'Body type'\")\n"
   ]
  },
  {
   "cell_type": "markdown",
   "metadata": {},
   "source": [
    "### 'Category'"
   ]
  },
  {
   "cell_type": "code",
   "execution_count": null,
   "metadata": {},
   "outputs": [],
   "source": [
    "highest_categories = df[df['category']]"
   ]
  },
  {
   "cell_type": "code",
   "execution_count": 23,
   "metadata": {},
   "outputs": [
    {
     "data": {
      "text/plain": [
       "dress           92884\n",
       "gown            44381\n",
       "sheath          19316\n",
       "shift            5365\n",
       "jumpsuit         5184\n",
       "                ...  \n",
       "sweatershirt        4\n",
       "sweatpants          2\n",
       "overcoat            2\n",
       "buttondown          1\n",
       "crewneck            1\n",
       "Name: category, Length: 68, dtype: int64"
      ]
     },
     "execution_count": 23,
     "metadata": {},
     "output_type": "execute_result"
    }
   ],
   "source": [
    "df['category'].value_counts()"
   ]
  },
  {
   "cell_type": "code",
   "execution_count": 19,
   "metadata": {},
   "outputs": [
    {
     "data": {
      "text/plain": [
       "56"
      ]
     },
     "execution_count": 19,
     "metadata": {},
     "output_type": "execute_result"
    }
   ],
   "source": [
    "highest_categories = pd.DataFrame(df['category'].value_counts())\n",
    "len(highest_categories[highest_categories.category <1000])"
   ]
  },
  {
   "cell_type": "code",
   "execution_count": 17,
   "metadata": {},
   "outputs": [
    {
     "data": {
      "text/plain": [
       "Text(0.5, 1.0, \"Distribution of 'Category'\")"
      ]
     },
     "execution_count": 17,
     "metadata": {},
     "output_type": "execute_result"
    },
    {
     "data": {
      "text/plain": [
       "<Figure size 1440x720 with 0 Axes>"
      ]
     },
     "metadata": {},
     "output_type": "display_data"
    },
    {
     "data": {
      "image/png": "[encoded data removed]",
      "text/plain": [
       "<Figure size 432x288 with 1 Axes>"
      ]
     },
     "metadata": {
      "needs_background": "light"
     },
     "output_type": "display_data"
    }
   ],
   "source": [
    "plt.figure(figsize=(20, 10))\n",
    "highest_categories[highest_categories.category >1000].plot(kind='bar')\n",
    "plt.title(\"Distribution of 'Category'\")\n"
   ]
  },
  {
   "cell_type": "code",
   "execution_count": 13,
   "metadata": {},
   "outputs": [
    {
     "name": "stdout",
     "output_type": "stream",
     "text": [
      "Qty of categories with less than 500 values:\t 52\n",
      "Qty of transactions related to this categories:\t 3993\n"
     ]
    }
   ],
   "source": [
    "count_category = df[\"category\"].value_counts()\n",
    "print('Qty of categories with less than 500 values:\\t', len(count_category[count_category<500]))\n",
    "print('Qty of transactions related to this categories:\\t',sum(count_category[count_category<500]))\n",
    "#DUDA: Preguntar si esta bien quitar estos 500 transacciones que tienen 52 categorias nuevas."
   ]
  },
  {
   "cell_type": "code",
   "execution_count": 14,
   "metadata": {},
   "outputs": [
    {
     "data": {
      "text/plain": [
       "126335     2241\n",
       "174086     1724\n",
       "123793     1714\n",
       "132738     1582\n",
       "145906     1478\n",
       "           ... \n",
       "357517        1\n",
       "2044810       1\n",
       "2849197       1\n",
       "2263613       1\n",
       "1682009       1\n",
       "Name: item_id, Length: 5850, dtype: int64"
      ]
     },
     "execution_count": 14,
     "metadata": {},
     "output_type": "execute_result"
    }
   ],
   "source": [
    "df[\"item_id\"].value_counts()"
   ]
  },
  {
   "cell_type": "code",
   "execution_count": 15,
   "metadata": {},
   "outputs": [],
   "source": [
    "df_categorical = df.select_dtypes(include = [\"object\"])"
   ]
  },
  {
   "cell_type": "code",
   "execution_count": 16,
   "metadata": {},
   "outputs": [
    {
     "data": {
      "text/html": [
       "<div>\n",
       "<style scoped>\n",
       "    .dataframe tbody tr th:only-of-type {\n",
       "        vertical-align: middle;\n",
       "    }\n",
       "\n",
       "    .dataframe tbody tr th {\n",
       "        vertical-align: top;\n",
       "    }\n",
       "\n",
       "    .dataframe thead th {\n",
       "        text-align: right;\n",
       "    }\n",
       "</style>\n",
       "<table border=\"1\" class=\"dataframe\">\n",
       "  <thead>\n",
       "    <tr style=\"text-align: right;\">\n",
       "      <th></th>\n",
       "      <th>rented for</th>\n",
       "      <th>body type</th>\n",
       "      <th>category</th>\n",
       "    </tr>\n",
       "  </thead>\n",
       "  <tbody>\n",
       "    <tr>\n",
       "      <th>0</th>\n",
       "      <td>vacation</td>\n",
       "      <td>hourglass</td>\n",
       "      <td>romper</td>\n",
       "    </tr>\n",
       "    <tr>\n",
       "      <th>1</th>\n",
       "      <td>other</td>\n",
       "      <td>straight &amp; narrow</td>\n",
       "      <td>gown</td>\n",
       "    </tr>\n",
       "    <tr>\n",
       "      <th>2</th>\n",
       "      <td>party</td>\n",
       "      <td>NaN</td>\n",
       "      <td>sheath</td>\n",
       "    </tr>\n",
       "    <tr>\n",
       "      <th>3</th>\n",
       "      <td>formal affair</td>\n",
       "      <td>pear</td>\n",
       "      <td>dress</td>\n",
       "    </tr>\n",
       "    <tr>\n",
       "      <th>4</th>\n",
       "      <td>wedding</td>\n",
       "      <td>athletic</td>\n",
       "      <td>gown</td>\n",
       "    </tr>\n",
       "    <tr>\n",
       "      <th>...</th>\n",
       "      <td>...</td>\n",
       "      <td>...</td>\n",
       "      <td>...</td>\n",
       "    </tr>\n",
       "    <tr>\n",
       "      <th>192539</th>\n",
       "      <td>work</td>\n",
       "      <td>hourglass</td>\n",
       "      <td>jumpsuit</td>\n",
       "    </tr>\n",
       "    <tr>\n",
       "      <th>192540</th>\n",
       "      <td>work</td>\n",
       "      <td>petite</td>\n",
       "      <td>dress</td>\n",
       "    </tr>\n",
       "    <tr>\n",
       "      <th>192541</th>\n",
       "      <td>everyday</td>\n",
       "      <td>straight &amp; narrow</td>\n",
       "      <td>dress</td>\n",
       "    </tr>\n",
       "    <tr>\n",
       "      <th>192542</th>\n",
       "      <td>wedding</td>\n",
       "      <td>pear</td>\n",
       "      <td>dress</td>\n",
       "    </tr>\n",
       "    <tr>\n",
       "      <th>192543</th>\n",
       "      <td>wedding</td>\n",
       "      <td>athletic</td>\n",
       "      <td>gown</td>\n",
       "    </tr>\n",
       "  </tbody>\n",
       "</table>\n",
       "<p>192544 rows × 3 columns</p>\n",
       "</div>"
      ],
      "text/plain": [
       "           rented for          body type  category\n",
       "0            vacation          hourglass    romper\n",
       "1               other  straight & narrow      gown\n",
       "2               party                NaN    sheath\n",
       "3       formal affair               pear     dress\n",
       "4             wedding           athletic      gown\n",
       "...               ...                ...       ...\n",
       "192539           work          hourglass  jumpsuit\n",
       "192540           work             petite     dress\n",
       "192541       everyday  straight & narrow     dress\n",
       "192542        wedding               pear     dress\n",
       "192543        wedding           athletic      gown\n",
       "\n",
       "[192544 rows x 3 columns]"
      ]
     },
     "execution_count": 16,
     "metadata": {},
     "output_type": "execute_result"
    }
   ],
   "source": [
    "df_categorical2 = df_categorical[[\"rented for\",\"body type\",\"category\"]]\n",
    "df_categorical2"
   ]
  },
  {
   "cell_type": "code",
   "execution_count": 17,
   "metadata": {},
   "outputs": [
    {
     "data": {
      "image/png": "[encoded data removed]",
      "text/plain": [
       "<Figure size 720x1440 with 3 Axes>"
      ]
     },
     "metadata": {
      "needs_background": "light"
     },
     "output_type": "display_data"
    }
   ],
   "source": [
    "fig, axes = plt.subplots(round(len(df_categorical2.columns) ), 1, figsize=(10, 20))\n",
    "\n",
    "for i, ax in enumerate(fig.axes):\n",
    "    if i < len(df_categorical2.columns):\n",
    "        ax.set_xticklabels(ax.xaxis.get_majorticklabels(), rotation =45)\n",
    "        sns.countplot(x=df_categorical2.columns[i], data=df_categorical2,ax=ax)\n",
    "\n",
    "fig.tight_layout()"
   ]
  },
  {
   "cell_type": "markdown",
   "metadata": {},
   "source": [
    "### Handling Missing values"
   ]
  },
  {
   "cell_type": "code",
   "execution_count": 18,
   "metadata": {},
   "outputs": [],
   "source": [
    "## lets create a functions that can be used for summarize missing data\n",
    "def percent_missing_data(df):\n",
    "    missing_count = df.isna().sum().sort_values(ascending = False)\n",
    "    missing_percent = 100 * df.isna().sum().sort_values(ascending = False) / len(df)\n",
    "    missing_count = pd.DataFrame(missing_count[missing_count > 0])\n",
    "    missing_percent = pd.DataFrame(missing_percent[missing_percent > 0])\n",
    "    missing_table = pd.concat([missing_count,missing_percent], axis = 1)\n",
    "    missing_table.columns = [\"missing_count\", \"missing_percent\"]\n",
    "    \n",
    "    return missing_table"
   ]
  },
  {
   "cell_type": "code",
   "execution_count": 19,
   "metadata": {},
   "outputs": [
    {
     "name": "stdout",
     "output_type": "stream",
     "text": [
      "            missing_count  missing_percent\n",
      "weight              29982        15.571506\n",
      "bust size           18411         9.561970\n",
      "body type           14637         7.601899\n",
      "age                   960         0.498587\n",
      "height                677         0.351608\n",
      "rating                 82         0.042588\n",
      "rented for             10         0.005194\n"
     ]
    },
    {
     "data": {
      "image/png": "[encoded data removed]",
      "text/plain": [
       "<Figure size 800x400 with 1 Axes>"
      ]
     },
     "metadata": {
      "needs_background": "light"
     },
     "output_type": "display_data"
    }
   ],
   "source": [
    "#Getting columns with missing values\n",
    "print(percent_missing_data(df))\n",
    "\n",
    "plt.figure(figsize = (8,4), dpi = 100)\n",
    "sns.barplot(x = percent_missing_data(df).index, y = percent_missing_data(df).values[:,1])\n",
    "plt.xticks(rotation = 90)\n",
    "plt.show()"
   ]
  },
  {
   "cell_type": "code",
   "execution_count": 20,
   "metadata": {},
   "outputs": [
    {
     "name": "stdout",
     "output_type": "stream",
     "text": [
      "           missing_count  missing_percent\n",
      "weight             23995        13.494362\n",
      "bust size          12315         6.925737\n",
      "height               548         0.308185\n",
      "age                  404         0.227202\n"
     ]
    }
   ],
   "source": [
    "#Droping NULL values from Body type, rating and render for as we will use these features for the analysis\n",
    "df_columns_complete = df.dropna(subset=[\"body type\",\"rating\",\"rented for\"])\n",
    "print(percent_missing_data(df_columns_complete))"
   ]
  },
  {
   "cell_type": "markdown",
   "metadata": {},
   "source": [
    "# Train y Test"
   ]
  },
  {
   "cell_type": "code",
   "execution_count": 21,
   "metadata": {},
   "outputs": [],
   "source": [
    "#Assign X as the original ratings dataframe and y as the user_id column of ratings.\n",
    "X = df_columns_complete.copy()"
   ]
  },
  {
   "cell_type": "code",
   "execution_count": 22,
   "metadata": {},
   "outputs": [],
   "source": [
    "#Quedarnos con los usuarios que tienen mas de una compra (sin cold start)\n",
    "users_more_1 = (X['user_id'].value_counts()==1)\n",
    "users_more_1 = np.array((users_more_1[users_more_1 == False]).index)"
   ]
  },
  {
   "cell_type": "code",
   "execution_count": 23,
   "metadata": {},
   "outputs": [
    {
     "data": {
      "text/plain": [
       "(113079, 15)"
      ]
     },
     "execution_count": 23,
     "metadata": {},
     "output_type": "execute_result"
    }
   ],
   "source": [
    "#Filtramos el df para dejarlo con los usuarios sin cold start\n",
    "boolean_series = X[\"user_id\"].isin(users_more_1)\n",
    "X_sin_coldstart = X[boolean_series]\n",
    "X_sin_coldstart.shape"
   ]
  },
  {
   "cell_type": "code",
   "execution_count": 24,
   "metadata": {},
   "outputs": [],
   "source": [
    "#Split into training and test datasets, stratified along user_id\n",
    "X_train, X_test = train_test_split(X_sin_coldstart,\n",
    "                                   stratify= X_sin_coldstart[\"user_id\"],\n",
    "                                   test_size = 0.30, \n",
    "                                   random_state=48) "
   ]
  },
  {
   "cell_type": "code",
   "execution_count": 25,
   "metadata": {},
   "outputs": [
    {
     "data": {
      "text/plain": [
       "(64736, 15)"
      ]
     },
     "execution_count": 25,
     "metadata": {},
     "output_type": "execute_result"
    }
   ],
   "source": [
    "#Filtramos los usuarios con una sola transaccion para agregarlos a train\n",
    "boolean_series = ~X[\"user_id\"].isin(users_more_1) #~ quiere decir is not in\n",
    "X_con_coldstart = X[boolean_series]\n",
    "X_con_coldstart.shape"
   ]
  },
  {
   "cell_type": "code",
   "execution_count": 26,
   "metadata": {},
   "outputs": [
    {
     "data": {
      "text/html": [
       "<div>\n",
       "<style scoped>\n",
       "    .dataframe tbody tr th:only-of-type {\n",
       "        vertical-align: middle;\n",
       "    }\n",
       "\n",
       "    .dataframe tbody tr th {\n",
       "        vertical-align: top;\n",
       "    }\n",
       "\n",
       "    .dataframe thead th {\n",
       "        text-align: right;\n",
       "    }\n",
       "</style>\n",
       "<table border=\"1\" class=\"dataframe\">\n",
       "  <thead>\n",
       "    <tr style=\"text-align: right;\">\n",
       "      <th></th>\n",
       "      <th>fit</th>\n",
       "      <th>user_id</th>\n",
       "      <th>bust size</th>\n",
       "      <th>item_id</th>\n",
       "      <th>weight</th>\n",
       "      <th>rating</th>\n",
       "      <th>rented for</th>\n",
       "      <th>review_text</th>\n",
       "      <th>body type</th>\n",
       "      <th>review_summary</th>\n",
       "      <th>category</th>\n",
       "      <th>height</th>\n",
       "      <th>size</th>\n",
       "      <th>age</th>\n",
       "      <th>review_date</th>\n",
       "    </tr>\n",
       "  </thead>\n",
       "  <tbody>\n",
       "    <tr>\n",
       "      <th>150264</th>\n",
       "      <td>fit</td>\n",
       "      <td>13906</td>\n",
       "      <td>34b</td>\n",
       "      <td>2616422</td>\n",
       "      <td>115lbs</td>\n",
       "      <td>10.0</td>\n",
       "      <td>everyday</td>\n",
       "      <td>its loose fitting in a good way</td>\n",
       "      <td>straight &amp; narrow</td>\n",
       "      <td>loved it, fun blouse, super pretty and easy to...</td>\n",
       "      <td>top</td>\n",
       "      <td>5' 7\"</td>\n",
       "      <td>8</td>\n",
       "      <td>32.0</td>\n",
       "      <td>January 3, 2018</td>\n",
       "    </tr>\n",
       "    <tr>\n",
       "      <th>185372</th>\n",
       "      <td>fit</td>\n",
       "      <td>18490</td>\n",
       "      <td>32c</td>\n",
       "      <td>152836</td>\n",
       "      <td>115lbs</td>\n",
       "      <td>8.0</td>\n",
       "      <td>date</td>\n",
       "      <td>This dress was amazing!  It fit like a glove a...</td>\n",
       "      <td>petite</td>\n",
       "      <td>Love it!</td>\n",
       "      <td>mini</td>\n",
       "      <td>5' 0\"</td>\n",
       "      <td>4</td>\n",
       "      <td>37.0</td>\n",
       "      <td>March 30, 2014</td>\n",
       "    </tr>\n",
       "    <tr>\n",
       "      <th>11643</th>\n",
       "      <td>fit</td>\n",
       "      <td>476969</td>\n",
       "      <td>32b</td>\n",
       "      <td>176490</td>\n",
       "      <td>130lbs</td>\n",
       "      <td>10.0</td>\n",
       "      <td>wedding</td>\n",
       "      <td>I loved wearing this dress. It is really struc...</td>\n",
       "      <td>athletic</td>\n",
       "      <td>Love it.</td>\n",
       "      <td>dress</td>\n",
       "      <td>5' 7\"</td>\n",
       "      <td>8</td>\n",
       "      <td>34.0</td>\n",
       "      <td>April 21, 2016</td>\n",
       "    </tr>\n",
       "    <tr>\n",
       "      <th>45261</th>\n",
       "      <td>fit</td>\n",
       "      <td>542220</td>\n",
       "      <td>34c</td>\n",
       "      <td>1777332</td>\n",
       "      <td>138lbs</td>\n",
       "      <td>8.0</td>\n",
       "      <td>work</td>\n",
       "      <td>It's a little boxy and very warm as it is wool...</td>\n",
       "      <td>athletic</td>\n",
       "      <td>Classy, conservative work dress.</td>\n",
       "      <td>dress</td>\n",
       "      <td>5' 7\"</td>\n",
       "      <td>12</td>\n",
       "      <td>32.0</td>\n",
       "      <td>February 10, 2016</td>\n",
       "    </tr>\n",
       "    <tr>\n",
       "      <th>116062</th>\n",
       "      <td>fit</td>\n",
       "      <td>334094</td>\n",
       "      <td>34a</td>\n",
       "      <td>1547971</td>\n",
       "      <td>130lbs</td>\n",
       "      <td>10.0</td>\n",
       "      <td>wedding</td>\n",
       "      <td>Rented this dress for a black-tie wedding and ...</td>\n",
       "      <td>straight &amp; narrow</td>\n",
       "      <td>Elegant, interesting, glamorous… can I keep it?</td>\n",
       "      <td>gown</td>\n",
       "      <td>5' 6\"</td>\n",
       "      <td>8</td>\n",
       "      <td>32.0</td>\n",
       "      <td>March 25, 2016</td>\n",
       "    </tr>\n",
       "    <tr>\n",
       "      <th>...</th>\n",
       "      <td>...</td>\n",
       "      <td>...</td>\n",
       "      <td>...</td>\n",
       "      <td>...</td>\n",
       "      <td>...</td>\n",
       "      <td>...</td>\n",
       "      <td>...</td>\n",
       "      <td>...</td>\n",
       "      <td>...</td>\n",
       "      <td>...</td>\n",
       "      <td>...</td>\n",
       "      <td>...</td>\n",
       "      <td>...</td>\n",
       "      <td>...</td>\n",
       "      <td>...</td>\n",
       "    </tr>\n",
       "    <tr>\n",
       "      <th>192528</th>\n",
       "      <td>small</td>\n",
       "      <td>597756</td>\n",
       "      <td>38dd</td>\n",
       "      <td>300980</td>\n",
       "      <td>220lbs</td>\n",
       "      <td>10.0</td>\n",
       "      <td>wedding</td>\n",
       "      <td>First time using RTR. I wasn't sure what to ex...</td>\n",
       "      <td>full bust</td>\n",
       "      <td>I felt fierce in this dress!</td>\n",
       "      <td>dress</td>\n",
       "      <td>5' 4\"</td>\n",
       "      <td>35</td>\n",
       "      <td>32.0</td>\n",
       "      <td>November 12, 2017</td>\n",
       "    </tr>\n",
       "    <tr>\n",
       "      <th>192532</th>\n",
       "      <td>small</td>\n",
       "      <td>838239</td>\n",
       "      <td>36c</td>\n",
       "      <td>863680</td>\n",
       "      <td>150lbs</td>\n",
       "      <td>10.0</td>\n",
       "      <td>wedding</td>\n",
       "      <td>Absolutely stunning dress. details and tulle m...</td>\n",
       "      <td>hourglass</td>\n",
       "      <td>Made for a princess. Stunning, elegant, great ...</td>\n",
       "      <td>dress</td>\n",
       "      <td>5' 0\"</td>\n",
       "      <td>24</td>\n",
       "      <td>55.0</td>\n",
       "      <td>July 25, 2017</td>\n",
       "    </tr>\n",
       "    <tr>\n",
       "      <th>192536</th>\n",
       "      <td>large</td>\n",
       "      <td>442241</td>\n",
       "      <td>34d</td>\n",
       "      <td>166633</td>\n",
       "      <td>127lbs</td>\n",
       "      <td>8.0</td>\n",
       "      <td>wedding</td>\n",
       "      <td>Based on reviews I ordered a 4 and a 6. The 4 ...</td>\n",
       "      <td>full bust</td>\n",
       "      <td>I received so many compliments on the dress, ...</td>\n",
       "      <td>mini</td>\n",
       "      <td>5' 5\"</td>\n",
       "      <td>8</td>\n",
       "      <td>33.0</td>\n",
       "      <td>April 15, 2014</td>\n",
       "    </tr>\n",
       "    <tr>\n",
       "      <th>192542</th>\n",
       "      <td>fit</td>\n",
       "      <td>961120</td>\n",
       "      <td>36c</td>\n",
       "      <td>126335</td>\n",
       "      <td>165lbs</td>\n",
       "      <td>10.0</td>\n",
       "      <td>wedding</td>\n",
       "      <td>This dress was PERFECTION.  it looked incredib...</td>\n",
       "      <td>pear</td>\n",
       "      <td>loved this dress it was comfortable and photog...</td>\n",
       "      <td>dress</td>\n",
       "      <td>5' 6\"</td>\n",
       "      <td>16</td>\n",
       "      <td>31.0</td>\n",
       "      <td>November 25, 2015</td>\n",
       "    </tr>\n",
       "    <tr>\n",
       "      <th>192543</th>\n",
       "      <td>fit</td>\n",
       "      <td>123612</td>\n",
       "      <td>36b</td>\n",
       "      <td>127865</td>\n",
       "      <td>155lbs</td>\n",
       "      <td>10.0</td>\n",
       "      <td>wedding</td>\n",
       "      <td>This dress was wonderful! I had originally pla...</td>\n",
       "      <td>athletic</td>\n",
       "      <td>I wore this to a beautiful black tie optional ...</td>\n",
       "      <td>gown</td>\n",
       "      <td>5' 6\"</td>\n",
       "      <td>16</td>\n",
       "      <td>30.0</td>\n",
       "      <td>August 29, 2017</td>\n",
       "    </tr>\n",
       "  </tbody>\n",
       "</table>\n",
       "<p>143891 rows × 15 columns</p>\n",
       "</div>"
      ],
      "text/plain": [
       "          fit  user_id bust size  item_id  weight  rating rented for  \\\n",
       "150264    fit    13906       34b  2616422  115lbs    10.0   everyday   \n",
       "185372    fit    18490       32c   152836  115lbs     8.0       date   \n",
       "11643     fit   476969       32b   176490  130lbs    10.0    wedding   \n",
       "45261     fit   542220       34c  1777332  138lbs     8.0       work   \n",
       "116062    fit   334094       34a  1547971  130lbs    10.0    wedding   \n",
       "...       ...      ...       ...      ...     ...     ...        ...   \n",
       "192528  small   597756      38dd   300980  220lbs    10.0    wedding   \n",
       "192532  small   838239       36c   863680  150lbs    10.0    wedding   \n",
       "192536  large   442241       34d   166633  127lbs     8.0    wedding   \n",
       "192542    fit   961120       36c   126335  165lbs    10.0    wedding   \n",
       "192543    fit   123612       36b   127865  155lbs    10.0    wedding   \n",
       "\n",
       "                                              review_text          body type  \\\n",
       "150264                    its loose fitting in a good way  straight & narrow   \n",
       "185372  This dress was amazing!  It fit like a glove a...             petite   \n",
       "11643   I loved wearing this dress. It is really struc...           athletic   \n",
       "45261   It's a little boxy and very warm as it is wool...           athletic   \n",
       "116062  Rented this dress for a black-tie wedding and ...  straight & narrow   \n",
       "...                                                   ...                ...   \n",
       "192528  First time using RTR. I wasn't sure what to ex...          full bust   \n",
       "192532  Absolutely stunning dress. details and tulle m...          hourglass   \n",
       "192536  Based on reviews I ordered a 4 and a 6. The 4 ...          full bust   \n",
       "192542  This dress was PERFECTION.  it looked incredib...               pear   \n",
       "192543  This dress was wonderful! I had originally pla...           athletic   \n",
       "\n",
       "                                           review_summary category height  \\\n",
       "150264  loved it, fun blouse, super pretty and easy to...      top  5' 7\"   \n",
       "185372                                           Love it!     mini  5' 0\"   \n",
       "11643                                           Love it.     dress  5' 7\"   \n",
       "45261                   Classy, conservative work dress.     dress  5' 7\"   \n",
       "116062    Elegant, interesting, glamorous… can I keep it?     gown  5' 6\"   \n",
       "...                                                   ...      ...    ...   \n",
       "192528                       I felt fierce in this dress!    dress  5' 4\"   \n",
       "192532  Made for a princess. Stunning, elegant, great ...    dress  5' 0\"   \n",
       "192536   I received so many compliments on the dress, ...     mini  5' 5\"   \n",
       "192542  loved this dress it was comfortable and photog...    dress  5' 6\"   \n",
       "192543  I wore this to a beautiful black tie optional ...     gown  5' 6\"   \n",
       "\n",
       "        size   age        review_date  \n",
       "150264     8  32.0    January 3, 2018  \n",
       "185372     4  37.0     March 30, 2014  \n",
       "11643      8  34.0     April 21, 2016  \n",
       "45261     12  32.0  February 10, 2016  \n",
       "116062     8  32.0     March 25, 2016  \n",
       "...      ...   ...                ...  \n",
       "192528    35  32.0  November 12, 2017  \n",
       "192532    24  55.0      July 25, 2017  \n",
       "192536     8  33.0     April 15, 2014  \n",
       "192542    16  31.0  November 25, 2015  \n",
       "192543    16  30.0    August 29, 2017  \n",
       "\n",
       "[143891 rows x 15 columns]"
      ]
     },
     "execution_count": 26,
     "metadata": {},
     "output_type": "execute_result"
    }
   ],
   "source": [
    "#Le agregamos a X train los usuarios con cold start\n",
    "X_train.append(X_con_coldstart)"
   ]
  },
  {
   "cell_type": "code",
   "execution_count": 27,
   "metadata": {},
   "outputs": [],
   "source": [
    "X_train.to_csv(\"X_train.csv\",index=False)\n",
    "X_test.to_csv(\"X_test.csv\",index=False)"
   ]
  }
 ],
 "metadata": {
  "kernelspec": {
   "display_name": "Python 3",
   "language": "python",
   "name": "python3"
  },
  "language_info": {
   "codemirror_mode": {
    "name": "ipython",
    "version": 3
   },
   "file_extension": ".py",
   "mimetype": "text/x-python",
   "name": "python",
   "nbconvert_exporter": "python",
   "pygments_lexer": "ipython3",
   "version": "3.8.8"
  }
 },
 "nbformat": 4,
 "nbformat_minor": 4
}
